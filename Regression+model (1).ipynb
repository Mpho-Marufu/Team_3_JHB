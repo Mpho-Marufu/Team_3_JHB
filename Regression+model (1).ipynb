{
 "cells": [
  {
   "cell_type": "code",
   "execution_count": 3,
   "metadata": {
    "collapsed": true
   },
   "outputs": [],
   "source": [
    "import numpy as np\n",
    "import pandas as pd\n",
    "import seaborn as sns\n",
    "import matplotlib.pyplot as plt\n"
   ]
  },
  {
   "cell_type": "code",
   "execution_count": 4,
   "metadata": {
    "collapsed": true
   },
   "outputs": [],
   "source": [
    "train_data = pd.read_csv('C:/Users/Valaska/Downloads/Train.csv')\n",
    "test_data = pd.read_csv('C:/Users/Valaska/Downloads/Test.csv')\n",
    "riders = pd.read_csv('C:/Users/Valaska/Downloads/Riders.csv')\n",
    "dataset = pd.merge(train_data, riders, how='inner', on='Rider Id')\n",
    "test_data = pd.merge(test_data, riders, how = 'inner', on= 'Rider Id')"
   ]
  },
  {
   "cell_type": "code",
   "execution_count": 5,
   "metadata": {},
   "outputs": [
    {
     "output_type": "execute_result",
     "data": {
      "text/plain": "         Order No       User Id Vehicle Type  Platform Type  \\\n0   Order_No_4211   User_Id_633         Bike              3   \n1  Order_No_25375  User_Id_2285         Bike              3   \n2   Order_No_1899   User_Id_265         Bike              3   \n3   Order_No_9336  User_Id_1402         Bike              3   \n4  Order_No_27883  User_Id_1737         Bike              1   \n\n  Personal or Business  Placement - Day of Month  \\\n0             Business                         9   \n1             Personal                        12   \n2             Business                        30   \n3             Business                        15   \n4             Personal                        13   \n\n   Placement - Weekday (Mo = 1) Placement - Time  Confirmation - Day of Month  \\\n0                             5       9:35:46 AM                            9   \n1                             5      11:16:16 AM                           12   \n2                             2      12:39:25 PM                           30   \n3                             5       9:25:34 AM                           15   \n4                             1       9:55:18 AM                           13   \n\n   Confirmation - Weekday (Mo = 1)             ...              \\\n0                                5             ...               \n1                                5             ...               \n2                                2             ...               \n3                                5             ...               \n4                                1             ...               \n\n  Arrival at Destination - Time  Distance (KM)  Temperature  \\\n0                   10:39:55 AM              4         20.4   \n1                   12:17:22 PM             16         26.4   \n2                    1:00:38 PM              3          NaN   \n3                   10:05:27 AM              9         19.2   \n4                   10:25:37 AM              9         15.4   \n\n  Precipitation in millimeters  Pickup Lat  Pickup Long Destination Lat  \\\n0                          NaN   -1.317755    36.830370       -1.300406   \n1                          NaN   -1.351453    36.899315       -1.295004   \n2                          NaN   -1.308284    36.843419       -1.300921   \n3                          NaN   -1.281301    36.832396       -1.257147   \n4                          NaN   -1.266597    36.792118       -1.295041   \n\n   Destination Long      Rider Id Time from Pickup to Arrival  \n0         36.829741  Rider_Id_432                         745  \n1         36.814358  Rider_Id_856                        1993  \n2         36.828195  Rider_Id_155                         455  \n3         36.795063  Rider_Id_855                        1341  \n4         36.809817  Rider_Id_770                        1214  \n\n[5 rows x 29 columns]",
      "text/html": "<div>\n<style>\n    .dataframe thead tr:only-child th {\n        text-align: right;\n    }\n\n    .dataframe thead th {\n        text-align: left;\n    }\n\n    .dataframe tbody tr th {\n        vertical-align: top;\n    }\n</style>\n<table border=\"1\" class=\"dataframe\">\n  <thead>\n    <tr style=\"text-align: right;\">\n      <th></th>\n      <th>Order No</th>\n      <th>User Id</th>\n      <th>Vehicle Type</th>\n      <th>Platform Type</th>\n      <th>Personal or Business</th>\n      <th>Placement - Day of Month</th>\n      <th>Placement - Weekday (Mo = 1)</th>\n      <th>Placement - Time</th>\n      <th>Confirmation - Day of Month</th>\n      <th>Confirmation - Weekday (Mo = 1)</th>\n      <th>...</th>\n      <th>Arrival at Destination - Time</th>\n      <th>Distance (KM)</th>\n      <th>Temperature</th>\n      <th>Precipitation in millimeters</th>\n      <th>Pickup Lat</th>\n      <th>Pickup Long</th>\n      <th>Destination Lat</th>\n      <th>Destination Long</th>\n      <th>Rider Id</th>\n      <th>Time from Pickup to Arrival</th>\n    </tr>\n  </thead>\n  <tbody>\n    <tr>\n      <th>0</th>\n      <td>Order_No_4211</td>\n      <td>User_Id_633</td>\n      <td>Bike</td>\n      <td>3</td>\n      <td>Business</td>\n      <td>9</td>\n      <td>5</td>\n      <td>9:35:46 AM</td>\n      <td>9</td>\n      <td>5</td>\n      <td>...</td>\n      <td>10:39:55 AM</td>\n      <td>4</td>\n      <td>20.4</td>\n      <td>NaN</td>\n      <td>-1.317755</td>\n      <td>36.830370</td>\n      <td>-1.300406</td>\n      <td>36.829741</td>\n      <td>Rider_Id_432</td>\n      <td>745</td>\n    </tr>\n    <tr>\n      <th>1</th>\n      <td>Order_No_25375</td>\n      <td>User_Id_2285</td>\n      <td>Bike</td>\n      <td>3</td>\n      <td>Personal</td>\n      <td>12</td>\n      <td>5</td>\n      <td>11:16:16 AM</td>\n      <td>12</td>\n      <td>5</td>\n      <td>...</td>\n      <td>12:17:22 PM</td>\n      <td>16</td>\n      <td>26.4</td>\n      <td>NaN</td>\n      <td>-1.351453</td>\n      <td>36.899315</td>\n      <td>-1.295004</td>\n      <td>36.814358</td>\n      <td>Rider_Id_856</td>\n      <td>1993</td>\n    </tr>\n    <tr>\n      <th>2</th>\n      <td>Order_No_1899</td>\n      <td>User_Id_265</td>\n      <td>Bike</td>\n      <td>3</td>\n      <td>Business</td>\n      <td>30</td>\n      <td>2</td>\n      <td>12:39:25 PM</td>\n      <td>30</td>\n      <td>2</td>\n      <td>...</td>\n      <td>1:00:38 PM</td>\n      <td>3</td>\n      <td>NaN</td>\n      <td>NaN</td>\n      <td>-1.308284</td>\n      <td>36.843419</td>\n      <td>-1.300921</td>\n      <td>36.828195</td>\n      <td>Rider_Id_155</td>\n      <td>455</td>\n    </tr>\n    <tr>\n      <th>3</th>\n      <td>Order_No_9336</td>\n      <td>User_Id_1402</td>\n      <td>Bike</td>\n      <td>3</td>\n      <td>Business</td>\n      <td>15</td>\n      <td>5</td>\n      <td>9:25:34 AM</td>\n      <td>15</td>\n      <td>5</td>\n      <td>...</td>\n      <td>10:05:27 AM</td>\n      <td>9</td>\n      <td>19.2</td>\n      <td>NaN</td>\n      <td>-1.281301</td>\n      <td>36.832396</td>\n      <td>-1.257147</td>\n      <td>36.795063</td>\n      <td>Rider_Id_855</td>\n      <td>1341</td>\n    </tr>\n    <tr>\n      <th>4</th>\n      <td>Order_No_27883</td>\n      <td>User_Id_1737</td>\n      <td>Bike</td>\n      <td>1</td>\n      <td>Personal</td>\n      <td>13</td>\n      <td>1</td>\n      <td>9:55:18 AM</td>\n      <td>13</td>\n      <td>1</td>\n      <td>...</td>\n      <td>10:25:37 AM</td>\n      <td>9</td>\n      <td>15.4</td>\n      <td>NaN</td>\n      <td>-1.266597</td>\n      <td>36.792118</td>\n      <td>-1.295041</td>\n      <td>36.809817</td>\n      <td>Rider_Id_770</td>\n      <td>1214</td>\n    </tr>\n  </tbody>\n</table>\n<p>5 rows × 29 columns</p>\n</div>"
     },
     "metadata": {},
     "execution_count": 5
    }
   ],
   "source": [
    "train_data.head()"
   ]
  },
  {
   "cell_type": "code",
   "execution_count": null,
   "metadata": {},
   "outputs": [],
   "source": [
    "riders.head()"
   ]
  },
  {
   "cell_type": "code",
   "execution_count": 6,
   "metadata": {},
   "outputs": [
    {
     "output_type": "execute_result",
     "data": {
      "text/plain": "Order No                                     21201\nUser Id                                       3186\nVehicle Type                                     1\nPlatform Type                                    4\nPersonal or Business                             2\nPlacement - Day of Month                        31\nPlacement - Weekday (Mo = 1)                     7\nPlacement - Time                             15686\nConfirmation - Day of Month                     31\nConfirmation - Weekday (Mo = 1)                  7\nConfirmation - Time                          15742\nArrival at Pickup - Day of Month                31\nArrival at Pickup - Weekday (Mo = 1)             7\nArrival at Pickup - Time                     15767\nPickup - Day of Month                           31\nPickup - Weekday (Mo = 1)                        7\nPickup - Time                                15690\nArrival at Destination - Day of Month           31\nArrival at Destination - Weekday (Mo = 1)        7\nArrival at Destination - Time                15725\nDistance (KM)                                   45\nTemperature                                    188\nPrecipitation in millimeters                    54\nPickup Lat                                    3666\nPickup Long                                   3656\nDestination Lat                               5302\nDestination Long                              5267\nRider Id                                       924\nTime from Pickup to Arrival                   4067\nNo_Of_Orders                                   790\nAge                                            703\nAverage_Rating                                  45\nNo_of_Ratings                                  536\ndtype: int64"
     },
     "metadata": {},
     "execution_count": 6
    }
   ],
   "source": [
    "dataset.nunique()"
   ]
  },
  {
   "cell_type": "code",
   "execution_count": 8,
   "metadata": {},
   "outputs": [],
   "source": [
    "dataset.drop(['User Id', 'Vehicle Type', 'Order No', 'Rider Id'], axis =1, inplace = True)"
   ]
  },
  {
   "cell_type": "code",
   "execution_count": 9,
   "metadata": {},
   "outputs": [],
   "source": [
    "dataset['Precipitation in millimeters'].fillna(value=0, inplace=True)\n",
    "test_data['Precipitation in millimeters'].fillna(value=0, inplace=True)"
   ]
  },
  {
   "cell_type": "code",
   "execution_count": 10,
   "metadata": {},
   "outputs": [
    {
     "output_type": "execute_result",
     "data": {
      "text/plain": "   Platform Type Personal or Business  Placement - Day of Month  \\\n0              3             Business                         9   \n1              3             Personal                        18   \n2              3             Business                        31   \n3              3             Personal                         2   \n4              2             Personal                        22   \n\n   Placement - Weekday (Mo = 1) Placement - Time  Confirmation - Day of Month  \\\n0                             5       9:35:46 AM                            9   \n1                             5       3:41:17 PM                           18   \n2                             5      12:51:41 PM                           31   \n3                             2       7:12:10 AM                            2   \n4                             2      10:40:58 AM                           22   \n\n   Confirmation - Weekday (Mo = 1) Confirmation - Time  \\\n0                                5          9:40:10 AM   \n1                                5          3:41:30 PM   \n2                                5          1:12:49 PM   \n3                                2          7:12:29 AM   \n4                                2         10:42:24 AM   \n\n   Arrival at Pickup - Day of Month  Arrival at Pickup - Weekday (Mo = 1)  \\\n0                                 9                                     5   \n1                                18                                     5   \n2                                31                                     5   \n3                                 2                                     2   \n4                                22                                     2   \n\n       ...       Precipitation in millimeters  Pickup Lat  Pickup Long  \\\n0      ...                                0.0   -1.317755    36.830370   \n1      ...                                0.0   -1.326774    36.787807   \n2      ...                                0.0   -1.255189    36.782203   \n3      ...                                0.0   -1.290315    36.757377   \n4      ...                                0.0   -1.273524    36.799220   \n\n  Destination Lat  Destination Long  Time from Pickup to Arrival No_Of_Orders  \\\n0       -1.300406         36.829741                          745         1637   \n1       -1.356237         36.904295                         2886         1637   \n2       -1.273412         36.818206                         2615         1637   \n3       -1.223520         36.802061                         2986         1637   \n4       -1.300431         36.752427                         1602         1637   \n\n    Age  Average_Rating  No_of_Ratings  \n0  1309            13.8            549  \n1  1309            13.8            549  \n2  1309            13.8            549  \n3  1309            13.8            549  \n4  1309            13.8            549  \n\n[5 rows x 29 columns]",
      "text/html": "<div>\n<style>\n    .dataframe thead tr:only-child th {\n        text-align: right;\n    }\n\n    .dataframe thead th {\n        text-align: left;\n    }\n\n    .dataframe tbody tr th {\n        vertical-align: top;\n    }\n</style>\n<table border=\"1\" class=\"dataframe\">\n  <thead>\n    <tr style=\"text-align: right;\">\n      <th></th>\n      <th>Platform Type</th>\n      <th>Personal or Business</th>\n      <th>Placement - Day of Month</th>\n      <th>Placement - Weekday (Mo = 1)</th>\n      <th>Placement - Time</th>\n      <th>Confirmation - Day of Month</th>\n      <th>Confirmation - Weekday (Mo = 1)</th>\n      <th>Confirmation - Time</th>\n      <th>Arrival at Pickup - Day of Month</th>\n      <th>Arrival at Pickup - Weekday (Mo = 1)</th>\n      <th>...</th>\n      <th>Precipitation in millimeters</th>\n      <th>Pickup Lat</th>\n      <th>Pickup Long</th>\n      <th>Destination Lat</th>\n      <th>Destination Long</th>\n      <th>Time from Pickup to Arrival</th>\n      <th>No_Of_Orders</th>\n      <th>Age</th>\n      <th>Average_Rating</th>\n      <th>No_of_Ratings</th>\n    </tr>\n  </thead>\n  <tbody>\n    <tr>\n      <th>0</th>\n      <td>3</td>\n      <td>Business</td>\n      <td>9</td>\n      <td>5</td>\n      <td>9:35:46 AM</td>\n      <td>9</td>\n      <td>5</td>\n      <td>9:40:10 AM</td>\n      <td>9</td>\n      <td>5</td>\n      <td>...</td>\n      <td>0.0</td>\n      <td>-1.317755</td>\n      <td>36.830370</td>\n      <td>-1.300406</td>\n      <td>36.829741</td>\n      <td>745</td>\n      <td>1637</td>\n      <td>1309</td>\n      <td>13.8</td>\n      <td>549</td>\n    </tr>\n    <tr>\n      <th>1</th>\n      <td>3</td>\n      <td>Personal</td>\n      <td>18</td>\n      <td>5</td>\n      <td>3:41:17 PM</td>\n      <td>18</td>\n      <td>5</td>\n      <td>3:41:30 PM</td>\n      <td>18</td>\n      <td>5</td>\n      <td>...</td>\n      <td>0.0</td>\n      <td>-1.326774</td>\n      <td>36.787807</td>\n      <td>-1.356237</td>\n      <td>36.904295</td>\n      <td>2886</td>\n      <td>1637</td>\n      <td>1309</td>\n      <td>13.8</td>\n      <td>549</td>\n    </tr>\n    <tr>\n      <th>2</th>\n      <td>3</td>\n      <td>Business</td>\n      <td>31</td>\n      <td>5</td>\n      <td>12:51:41 PM</td>\n      <td>31</td>\n      <td>5</td>\n      <td>1:12:49 PM</td>\n      <td>31</td>\n      <td>5</td>\n      <td>...</td>\n      <td>0.0</td>\n      <td>-1.255189</td>\n      <td>36.782203</td>\n      <td>-1.273412</td>\n      <td>36.818206</td>\n      <td>2615</td>\n      <td>1637</td>\n      <td>1309</td>\n      <td>13.8</td>\n      <td>549</td>\n    </tr>\n    <tr>\n      <th>3</th>\n      <td>3</td>\n      <td>Personal</td>\n      <td>2</td>\n      <td>2</td>\n      <td>7:12:10 AM</td>\n      <td>2</td>\n      <td>2</td>\n      <td>7:12:29 AM</td>\n      <td>2</td>\n      <td>2</td>\n      <td>...</td>\n      <td>0.0</td>\n      <td>-1.290315</td>\n      <td>36.757377</td>\n      <td>-1.223520</td>\n      <td>36.802061</td>\n      <td>2986</td>\n      <td>1637</td>\n      <td>1309</td>\n      <td>13.8</td>\n      <td>549</td>\n    </tr>\n    <tr>\n      <th>4</th>\n      <td>2</td>\n      <td>Personal</td>\n      <td>22</td>\n      <td>2</td>\n      <td>10:40:58 AM</td>\n      <td>22</td>\n      <td>2</td>\n      <td>10:42:24 AM</td>\n      <td>22</td>\n      <td>2</td>\n      <td>...</td>\n      <td>0.0</td>\n      <td>-1.273524</td>\n      <td>36.799220</td>\n      <td>-1.300431</td>\n      <td>36.752427</td>\n      <td>1602</td>\n      <td>1637</td>\n      <td>1309</td>\n      <td>13.8</td>\n      <td>549</td>\n    </tr>\n  </tbody>\n</table>\n<p>5 rows × 29 columns</p>\n</div>"
     },
     "metadata": {},
     "execution_count": 10
    }
   ],
   "source": [
    "dataset.head()"
   ]
  },
  {
   "cell_type": "code",
   "execution_count": 11,
   "metadata": {},
   "outputs": [],
   "source": [
    "from sklearn.preprocessing import LabelEncoder\n",
    "le = LabelEncoder()\n",
    "dataset['Personal or Business'] = le.fit_transform(dataset['Personal or Business'])\n",
    "test_data['Personal or Business'] = le.transform(test_data['Personal or Business'])"
   ]
  },
  {
   "cell_type": "code",
   "execution_count": 16,
   "metadata": {},
   "outputs": [],
   "source": [
    "column_titles = [col for col in dataset.columns if col!= 'Time from Pickup to Arrival'] + ['Time from Pickup to Arrival']\n",
    "dataset=dataset.reindex(columns=column_titles)\n",
    "test_data =test_data.reindex(columns=column_titles)"
   ]
  },
  {
   "cell_type": "code",
   "execution_count": 14,
   "metadata": {},
   "outputs": [
    {
     "output_type": "execute_result",
     "data": {
      "text/plain": "   Platform Type  Personal or Business  Placement - Day of Month  \\\n0              3                     0                         9   \n1              3                     1                        18   \n2              3                     0                        31   \n3              3                     1                         2   \n4              2                     1                        22   \n\n   Placement - Weekday (Mo = 1) Placement - Time  Confirmation - Day of Month  \\\n0                             5       9:35:46 AM                            9   \n1                             5       3:41:17 PM                           18   \n2                             5      12:51:41 PM                           31   \n3                             2       7:12:10 AM                            2   \n4                             2      10:40:58 AM                           22   \n\n   Confirmation - Weekday (Mo = 1) Confirmation - Time  \\\n0                                5          9:40:10 AM   \n1                                5          3:41:30 PM   \n2                                5          1:12:49 PM   \n3                                2          7:12:29 AM   \n4                                2         10:42:24 AM   \n\n   Arrival at Pickup - Day of Month  Arrival at Pickup - Weekday (Mo = 1)  \\\n0                                 9                                     5   \n1                                18                                     5   \n2                                31                                     5   \n3                                 2                                     2   \n4                                22                                     2   \n\n              ...              Precipitation in millimeters  Pickup Lat  \\\n0             ...                                       0.0   -1.317755   \n1             ...                                       0.0   -1.326774   \n2             ...                                       0.0   -1.255189   \n3             ...                                       0.0   -1.290315   \n4             ...                                       0.0   -1.273524   \n\n   Pickup Long Destination Lat  Destination Long  No_Of_Orders   Age  \\\n0    36.830370       -1.300406         36.829741          1637  1309   \n1    36.787807       -1.356237         36.904295          1637  1309   \n2    36.782203       -1.273412         36.818206          1637  1309   \n3    36.757377       -1.223520         36.802061          1637  1309   \n4    36.799220       -1.300431         36.752427          1637  1309   \n\n   Average_Rating  No_of_Ratings  Time from Pickup to Arrival  \n0            13.8            549                          745  \n1            13.8            549                         2886  \n2            13.8            549                         2615  \n3            13.8            549                         2986  \n4            13.8            549                         1602  \n\n[5 rows x 29 columns]",
      "text/html": "<div>\n<style>\n    .dataframe thead tr:only-child th {\n        text-align: right;\n    }\n\n    .dataframe thead th {\n        text-align: left;\n    }\n\n    .dataframe tbody tr th {\n        vertical-align: top;\n    }\n</style>\n<table border=\"1\" class=\"dataframe\">\n  <thead>\n    <tr style=\"text-align: right;\">\n      <th></th>\n      <th>Platform Type</th>\n      <th>Personal or Business</th>\n      <th>Placement - Day of Month</th>\n      <th>Placement - Weekday (Mo = 1)</th>\n      <th>Placement - Time</th>\n      <th>Confirmation - Day of Month</th>\n      <th>Confirmation - Weekday (Mo = 1)</th>\n      <th>Confirmation - Time</th>\n      <th>Arrival at Pickup - Day of Month</th>\n      <th>Arrival at Pickup - Weekday (Mo = 1)</th>\n      <th>...</th>\n      <th>Precipitation in millimeters</th>\n      <th>Pickup Lat</th>\n      <th>Pickup Long</th>\n      <th>Destination Lat</th>\n      <th>Destination Long</th>\n      <th>No_Of_Orders</th>\n      <th>Age</th>\n      <th>Average_Rating</th>\n      <th>No_of_Ratings</th>\n      <th>Time from Pickup to Arrival</th>\n    </tr>\n  </thead>\n  <tbody>\n    <tr>\n      <th>0</th>\n      <td>3</td>\n      <td>0</td>\n      <td>9</td>\n      <td>5</td>\n      <td>9:35:46 AM</td>\n      <td>9</td>\n      <td>5</td>\n      <td>9:40:10 AM</td>\n      <td>9</td>\n      <td>5</td>\n      <td>...</td>\n      <td>0.0</td>\n      <td>-1.317755</td>\n      <td>36.830370</td>\n      <td>-1.300406</td>\n      <td>36.829741</td>\n      <td>1637</td>\n      <td>1309</td>\n      <td>13.8</td>\n      <td>549</td>\n      <td>745</td>\n    </tr>\n    <tr>\n      <th>1</th>\n      <td>3</td>\n      <td>1</td>\n      <td>18</td>\n      <td>5</td>\n      <td>3:41:17 PM</td>\n      <td>18</td>\n      <td>5</td>\n      <td>3:41:30 PM</td>\n      <td>18</td>\n      <td>5</td>\n      <td>...</td>\n      <td>0.0</td>\n      <td>-1.326774</td>\n      <td>36.787807</td>\n      <td>-1.356237</td>\n      <td>36.904295</td>\n      <td>1637</td>\n      <td>1309</td>\n      <td>13.8</td>\n      <td>549</td>\n      <td>2886</td>\n    </tr>\n    <tr>\n      <th>2</th>\n      <td>3</td>\n      <td>0</td>\n      <td>31</td>\n      <td>5</td>\n      <td>12:51:41 PM</td>\n      <td>31</td>\n      <td>5</td>\n      <td>1:12:49 PM</td>\n      <td>31</td>\n      <td>5</td>\n      <td>...</td>\n      <td>0.0</td>\n      <td>-1.255189</td>\n      <td>36.782203</td>\n      <td>-1.273412</td>\n      <td>36.818206</td>\n      <td>1637</td>\n      <td>1309</td>\n      <td>13.8</td>\n      <td>549</td>\n      <td>2615</td>\n    </tr>\n    <tr>\n      <th>3</th>\n      <td>3</td>\n      <td>1</td>\n      <td>2</td>\n      <td>2</td>\n      <td>7:12:10 AM</td>\n      <td>2</td>\n      <td>2</td>\n      <td>7:12:29 AM</td>\n      <td>2</td>\n      <td>2</td>\n      <td>...</td>\n      <td>0.0</td>\n      <td>-1.290315</td>\n      <td>36.757377</td>\n      <td>-1.223520</td>\n      <td>36.802061</td>\n      <td>1637</td>\n      <td>1309</td>\n      <td>13.8</td>\n      <td>549</td>\n      <td>2986</td>\n    </tr>\n    <tr>\n      <th>4</th>\n      <td>2</td>\n      <td>1</td>\n      <td>22</td>\n      <td>2</td>\n      <td>10:40:58 AM</td>\n      <td>22</td>\n      <td>2</td>\n      <td>10:42:24 AM</td>\n      <td>22</td>\n      <td>2</td>\n      <td>...</td>\n      <td>0.0</td>\n      <td>-1.273524</td>\n      <td>36.799220</td>\n      <td>-1.300431</td>\n      <td>36.752427</td>\n      <td>1637</td>\n      <td>1309</td>\n      <td>13.8</td>\n      <td>549</td>\n      <td>1602</td>\n    </tr>\n  </tbody>\n</table>\n<p>5 rows × 29 columns</p>\n</div>"
     },
     "metadata": {},
     "execution_count": 14
    }
   ],
   "source": [
    "dataset.head()"
   ]
  },
  {
   "cell_type": "code",
   "execution_count": 18,
   "metadata": {},
   "outputs": [
    {
     "output_type": "execute_result",
     "data": {
      "text/plain": "   Platform Type  Personal or Business  Placement - Day of Month  \\\n0              3                     0                        27   \n1              1                     1                        26   \n2              3                     0                        29   \n3              3                     0                         2   \n4              3                     0                        14   \n\n   Placement - Weekday (Mo = 1) Placement - Time  Confirmation - Day of Month  \\\n0                             3       4:44:10 PM                           27   \n1                             2       2:43:21 PM                           26   \n2                             5      11:55:05 AM                           29   \n3                             1       9:23:21 AM                            2   \n4                             4      12:55:59 PM                           14   \n\n   Confirmation - Weekday (Mo = 1) Confirmation - Time  \\\n0                                3          4:44:29 PM   \n1                                2          2:47:16 PM   \n2                                5         11:58:12 AM   \n3                                1          9:23:44 AM   \n4                                4          1:22:44 PM   \n\n   Arrival at Pickup - Day of Month  Arrival at Pickup - Weekday (Mo = 1)  \\\n0                                27                                     3   \n1                                26                                     2   \n2                                29                                     5   \n3                                 2                                     1   \n4                                14                                     4   \n\n              ...              Precipitation in millimeters  Pickup Lat  \\\n0             ...                                       0.0   -1.333275   \n1             ...                                       0.0   -1.312745   \n2             ...                                       0.0   -1.255189   \n3             ...                                       0.0   -1.310451   \n4             ...                                       0.0   -1.333275   \n\n   Pickup Long Destination Lat  Destination Long  No_Of_Orders   Age  \\\n0    36.870815       -1.305249         36.822390           439  1511   \n1    36.875715       -1.288435         36.760677           439  1511   \n2    36.782203       -1.293393         36.790237           439  1511   \n3    36.868724       -1.259542         36.787118           439  1511   \n4    36.870815       -1.255189         36.782203           439  1511   \n\n   Average_Rating  No_of_Ratings  Time from Pickup to Arrival  \n0            13.3            171                          NaN  \n1            13.3            171                          NaN  \n2            13.3            171                          NaN  \n3            13.3            171                          NaN  \n4            13.3            171                          NaN  \n\n[5 rows x 29 columns]",
      "text/html": "<div>\n<style>\n    .dataframe thead tr:only-child th {\n        text-align: right;\n    }\n\n    .dataframe thead th {\n        text-align: left;\n    }\n\n    .dataframe tbody tr th {\n        vertical-align: top;\n    }\n</style>\n<table border=\"1\" class=\"dataframe\">\n  <thead>\n    <tr style=\"text-align: right;\">\n      <th></th>\n      <th>Platform Type</th>\n      <th>Personal or Business</th>\n      <th>Placement - Day of Month</th>\n      <th>Placement - Weekday (Mo = 1)</th>\n      <th>Placement - Time</th>\n      <th>Confirmation - Day of Month</th>\n      <th>Confirmation - Weekday (Mo = 1)</th>\n      <th>Confirmation - Time</th>\n      <th>Arrival at Pickup - Day of Month</th>\n      <th>Arrival at Pickup - Weekday (Mo = 1)</th>\n      <th>...</th>\n      <th>Precipitation in millimeters</th>\n      <th>Pickup Lat</th>\n      <th>Pickup Long</th>\n      <th>Destination Lat</th>\n      <th>Destination Long</th>\n      <th>No_Of_Orders</th>\n      <th>Age</th>\n      <th>Average_Rating</th>\n      <th>No_of_Ratings</th>\n      <th>Time from Pickup to Arrival</th>\n    </tr>\n  </thead>\n  <tbody>\n    <tr>\n      <th>0</th>\n      <td>3</td>\n      <td>0</td>\n      <td>27</td>\n      <td>3</td>\n      <td>4:44:10 PM</td>\n      <td>27</td>\n      <td>3</td>\n      <td>4:44:29 PM</td>\n      <td>27</td>\n      <td>3</td>\n      <td>...</td>\n      <td>0.0</td>\n      <td>-1.333275</td>\n      <td>36.870815</td>\n      <td>-1.305249</td>\n      <td>36.822390</td>\n      <td>439</td>\n      <td>1511</td>\n      <td>13.3</td>\n      <td>171</td>\n      <td>NaN</td>\n    </tr>\n    <tr>\n      <th>1</th>\n      <td>1</td>\n      <td>1</td>\n      <td>26</td>\n      <td>2</td>\n      <td>2:43:21 PM</td>\n      <td>26</td>\n      <td>2</td>\n      <td>2:47:16 PM</td>\n      <td>26</td>\n      <td>2</td>\n      <td>...</td>\n      <td>0.0</td>\n      <td>-1.312745</td>\n      <td>36.875715</td>\n      <td>-1.288435</td>\n      <td>36.760677</td>\n      <td>439</td>\n      <td>1511</td>\n      <td>13.3</td>\n      <td>171</td>\n      <td>NaN</td>\n    </tr>\n    <tr>\n      <th>2</th>\n      <td>3</td>\n      <td>0</td>\n      <td>29</td>\n      <td>5</td>\n      <td>11:55:05 AM</td>\n      <td>29</td>\n      <td>5</td>\n      <td>11:58:12 AM</td>\n      <td>29</td>\n      <td>5</td>\n      <td>...</td>\n      <td>0.0</td>\n      <td>-1.255189</td>\n      <td>36.782203</td>\n      <td>-1.293393</td>\n      <td>36.790237</td>\n      <td>439</td>\n      <td>1511</td>\n      <td>13.3</td>\n      <td>171</td>\n      <td>NaN</td>\n    </tr>\n    <tr>\n      <th>3</th>\n      <td>3</td>\n      <td>0</td>\n      <td>2</td>\n      <td>1</td>\n      <td>9:23:21 AM</td>\n      <td>2</td>\n      <td>1</td>\n      <td>9:23:44 AM</td>\n      <td>2</td>\n      <td>1</td>\n      <td>...</td>\n      <td>0.0</td>\n      <td>-1.310451</td>\n      <td>36.868724</td>\n      <td>-1.259542</td>\n      <td>36.787118</td>\n      <td>439</td>\n      <td>1511</td>\n      <td>13.3</td>\n      <td>171</td>\n      <td>NaN</td>\n    </tr>\n    <tr>\n      <th>4</th>\n      <td>3</td>\n      <td>0</td>\n      <td>14</td>\n      <td>4</td>\n      <td>12:55:59 PM</td>\n      <td>14</td>\n      <td>4</td>\n      <td>1:22:44 PM</td>\n      <td>14</td>\n      <td>4</td>\n      <td>...</td>\n      <td>0.0</td>\n      <td>-1.333275</td>\n      <td>36.870815</td>\n      <td>-1.255189</td>\n      <td>36.782203</td>\n      <td>439</td>\n      <td>1511</td>\n      <td>13.3</td>\n      <td>171</td>\n      <td>NaN</td>\n    </tr>\n  </tbody>\n</table>\n<p>5 rows × 29 columns</p>\n</div>"
     },
     "metadata": {},
     "execution_count": 18
    }
   ],
   "source": [
    "test_data.head()"
   ]
  },
  {
   "cell_type": "code",
   "execution_count": 25,
   "metadata": {},
   "outputs": [],
   "source": [
    "Time_data = list(dataset['Pickup - Time'])\n",
    "new_dates = []\n",
    "\n",
    "for i in range(len(Time_data)):\n",
    "    a = Time_data[i][-2:]\n",
    "    new_dates.append(a)\n",
    "\n",
    "\n",
    "dataset['Pickup - Time'] = new_dates"
   ]
  },
  {
   "cell_type": "code",
   "execution_count": 24,
   "metadata": {},
   "outputs": [],
   "source": [
    "Time_data2 = list(test_data['Pickup - Time'])\n",
    "new_dates2 = []\n",
    "\n",
    "for i in range(len(Time_data2)):\n",
    "    a = Time_data2[i][-2:]\n",
    "    new_dates2.append(a)\n",
    "\n",
    "test_data['Pickup - Time'] = new_dates2"
   ]
  },
  {
   "cell_type": "code",
   "execution_count": 27,
   "metadata": {},
   "outputs": [
    {
     "output_type": "execute_result",
     "data": {
      "text/plain": "   Platform Type  Personal or Business  Placement - Day of Month  \\\n0              3                     0                         9   \n1              3                     1                        18   \n2              3                     0                        31   \n3              3                     1                         2   \n4              2                     1                        22   \n\n   Placement - Weekday (Mo = 1) Placement - Time  Confirmation - Day of Month  \\\n0                             5       9:35:46 AM                            9   \n1                             5       3:41:17 PM                           18   \n2                             5      12:51:41 PM                           31   \n3                             2       7:12:10 AM                            2   \n4                             2      10:40:58 AM                           22   \n\n   Confirmation - Weekday (Mo = 1) Confirmation - Time  \\\n0                                5          9:40:10 AM   \n1                                5          3:41:30 PM   \n2                                5          1:12:49 PM   \n3                                2          7:12:29 AM   \n4                                2         10:42:24 AM   \n\n   Arrival at Pickup - Day of Month  Arrival at Pickup - Weekday (Mo = 1)  \\\n0                                 9                                     5   \n1                                18                                     5   \n2                                31                                     5   \n3                                 2                                     2   \n4                                22                                     2   \n\n              ...              Precipitation in millimeters  Pickup Lat  \\\n0             ...                                       0.0   -1.317755   \n1             ...                                       0.0   -1.326774   \n2             ...                                       0.0   -1.255189   \n3             ...                                       0.0   -1.290315   \n4             ...                                       0.0   -1.273524   \n\n   Pickup Long Destination Lat  Destination Long  No_Of_Orders   Age  \\\n0    36.830370       -1.300406         36.829741          1637  1309   \n1    36.787807       -1.356237         36.904295          1637  1309   \n2    36.782203       -1.273412         36.818206          1637  1309   \n3    36.757377       -1.223520         36.802061          1637  1309   \n4    36.799220       -1.300431         36.752427          1637  1309   \n\n   Average_Rating  No_of_Ratings  Time from Pickup to Arrival  \n0            13.8            549                          745  \n1            13.8            549                         2886  \n2            13.8            549                         2615  \n3            13.8            549                         2986  \n4            13.8            549                         1602  \n\n[5 rows x 29 columns]",
      "text/html": "<div>\n<style>\n    .dataframe thead tr:only-child th {\n        text-align: right;\n    }\n\n    .dataframe thead th {\n        text-align: left;\n    }\n\n    .dataframe tbody tr th {\n        vertical-align: top;\n    }\n</style>\n<table border=\"1\" class=\"dataframe\">\n  <thead>\n    <tr style=\"text-align: right;\">\n      <th></th>\n      <th>Platform Type</th>\n      <th>Personal or Business</th>\n      <th>Placement - Day of Month</th>\n      <th>Placement - Weekday (Mo = 1)</th>\n      <th>Placement - Time</th>\n      <th>Confirmation - Day of Month</th>\n      <th>Confirmation - Weekday (Mo = 1)</th>\n      <th>Confirmation - Time</th>\n      <th>Arrival at Pickup - Day of Month</th>\n      <th>Arrival at Pickup - Weekday (Mo = 1)</th>\n      <th>...</th>\n      <th>Precipitation in millimeters</th>\n      <th>Pickup Lat</th>\n      <th>Pickup Long</th>\n      <th>Destination Lat</th>\n      <th>Destination Long</th>\n      <th>No_Of_Orders</th>\n      <th>Age</th>\n      <th>Average_Rating</th>\n      <th>No_of_Ratings</th>\n      <th>Time from Pickup to Arrival</th>\n    </tr>\n  </thead>\n  <tbody>\n    <tr>\n      <th>0</th>\n      <td>3</td>\n      <td>0</td>\n      <td>9</td>\n      <td>5</td>\n      <td>9:35:46 AM</td>\n      <td>9</td>\n      <td>5</td>\n      <td>9:40:10 AM</td>\n      <td>9</td>\n      <td>5</td>\n      <td>...</td>\n      <td>0.0</td>\n      <td>-1.317755</td>\n      <td>36.830370</td>\n      <td>-1.300406</td>\n      <td>36.829741</td>\n      <td>1637</td>\n      <td>1309</td>\n      <td>13.8</td>\n      <td>549</td>\n      <td>745</td>\n    </tr>\n    <tr>\n      <th>1</th>\n      <td>3</td>\n      <td>1</td>\n      <td>18</td>\n      <td>5</td>\n      <td>3:41:17 PM</td>\n      <td>18</td>\n      <td>5</td>\n      <td>3:41:30 PM</td>\n      <td>18</td>\n      <td>5</td>\n      <td>...</td>\n      <td>0.0</td>\n      <td>-1.326774</td>\n      <td>36.787807</td>\n      <td>-1.356237</td>\n      <td>36.904295</td>\n      <td>1637</td>\n      <td>1309</td>\n      <td>13.8</td>\n      <td>549</td>\n      <td>2886</td>\n    </tr>\n    <tr>\n      <th>2</th>\n      <td>3</td>\n      <td>0</td>\n      <td>31</td>\n      <td>5</td>\n      <td>12:51:41 PM</td>\n      <td>31</td>\n      <td>5</td>\n      <td>1:12:49 PM</td>\n      <td>31</td>\n      <td>5</td>\n      <td>...</td>\n      <td>0.0</td>\n      <td>-1.255189</td>\n      <td>36.782203</td>\n      <td>-1.273412</td>\n      <td>36.818206</td>\n      <td>1637</td>\n      <td>1309</td>\n      <td>13.8</td>\n      <td>549</td>\n      <td>2615</td>\n    </tr>\n    <tr>\n      <th>3</th>\n      <td>3</td>\n      <td>1</td>\n      <td>2</td>\n      <td>2</td>\n      <td>7:12:10 AM</td>\n      <td>2</td>\n      <td>2</td>\n      <td>7:12:29 AM</td>\n      <td>2</td>\n      <td>2</td>\n      <td>...</td>\n      <td>0.0</td>\n      <td>-1.290315</td>\n      <td>36.757377</td>\n      <td>-1.223520</td>\n      <td>36.802061</td>\n      <td>1637</td>\n      <td>1309</td>\n      <td>13.8</td>\n      <td>549</td>\n      <td>2986</td>\n    </tr>\n    <tr>\n      <th>4</th>\n      <td>2</td>\n      <td>1</td>\n      <td>22</td>\n      <td>2</td>\n      <td>10:40:58 AM</td>\n      <td>22</td>\n      <td>2</td>\n      <td>10:42:24 AM</td>\n      <td>22</td>\n      <td>2</td>\n      <td>...</td>\n      <td>0.0</td>\n      <td>-1.273524</td>\n      <td>36.799220</td>\n      <td>-1.300431</td>\n      <td>36.752427</td>\n      <td>1637</td>\n      <td>1309</td>\n      <td>13.8</td>\n      <td>549</td>\n      <td>1602</td>\n    </tr>\n  </tbody>\n</table>\n<p>5 rows × 29 columns</p>\n</div>"
     },
     "metadata": {},
     "execution_count": 27
    }
   ],
   "source": [
    "dataset.head()"
   ]
  },
  {
   "cell_type": "code",
   "execution_count": null,
   "metadata": {},
   "outputs": [],
   "source": []
  },
  {
   "cell_type": "code",
   "execution_count": null,
   "metadata": {},
   "outputs": [],
   "source": []
  },
  {
   "cell_type": "code",
   "execution_count": 20,
   "metadata": {},
   "outputs": [
    {
     "output_type": "error",
     "ename": "NameError",
     "evalue": "name 'X' is not defined",
     "traceback": [
      "\u001b[1;31m---------------------------------------------------------------------------\u001b[0m",
      "\u001b[1;31mNameError\u001b[0m                                 Traceback (most recent call last)",
      "\u001b[1;32m<ipython-input-20-5ba13aad8f82>\u001b[0m in \u001b[0;36m<module>\u001b[1;34m()\u001b[0m\n\u001b[0;32m      2\u001b[0m \u001b[1;32mfrom\u001b[0m \u001b[0msklearn\u001b[0m\u001b[1;33m.\u001b[0m\u001b[0mimpute\u001b[0m \u001b[1;32mimport\u001b[0m \u001b[0mSimpleImputer\u001b[0m\u001b[1;33m\u001b[0m\u001b[0m\n\u001b[0;32m      3\u001b[0m \u001b[0mimputer\u001b[0m \u001b[1;33m=\u001b[0m \u001b[0mSimpleImputer\u001b[0m\u001b[1;33m(\u001b[0m\u001b[0mmissing_values\u001b[0m\u001b[1;33m=\u001b[0m\u001b[0mnp\u001b[0m\u001b[1;33m.\u001b[0m\u001b[0mnan\u001b[0m\u001b[1;33m,\u001b[0m \u001b[0mstrategy\u001b[0m\u001b[1;33m=\u001b[0m\u001b[1;34m'mean'\u001b[0m\u001b[1;33m)\u001b[0m\u001b[1;33m\u001b[0m\u001b[0m\n\u001b[1;32m----> 4\u001b[1;33m \u001b[0mimputer\u001b[0m\u001b[1;33m.\u001b[0m\u001b[0mfit\u001b[0m\u001b[1;33m(\u001b[0m\u001b[0mX\u001b[0m\u001b[1;33m[\u001b[0m\u001b[1;33m:\u001b[0m\u001b[1;33m,\u001b[0m \u001b[1;36m7\u001b[0m\u001b[1;33m:\u001b[0m\u001b[1;36m8\u001b[0m\u001b[1;33m]\u001b[0m\u001b[1;33m)\u001b[0m\u001b[1;33m\u001b[0m\u001b[0m\n\u001b[0m\u001b[0;32m      5\u001b[0m \u001b[0mX\u001b[0m\u001b[1;33m[\u001b[0m\u001b[1;33m:\u001b[0m\u001b[1;33m,\u001b[0m \u001b[1;36m7\u001b[0m\u001b[1;33m:\u001b[0m\u001b[1;36m8\u001b[0m\u001b[1;33m]\u001b[0m \u001b[1;33m=\u001b[0m \u001b[0mimputer\u001b[0m\u001b[1;33m.\u001b[0m\u001b[0mtransform\u001b[0m\u001b[1;33m(\u001b[0m\u001b[0mX\u001b[0m\u001b[1;33m[\u001b[0m\u001b[1;33m:\u001b[0m\u001b[1;33m,\u001b[0m \u001b[1;36m7\u001b[0m\u001b[1;33m:\u001b[0m\u001b[1;36m8\u001b[0m\u001b[1;33m]\u001b[0m\u001b[1;33m)\u001b[0m\u001b[1;33m\u001b[0m\u001b[0m\n",
      "\u001b[1;31mNameError\u001b[0m: name 'X' is not defined"
     ]
    }
   ],
   "source": [
    "#Average of Temperature\n",
    "from sklearn.impute import SimpleImputer\n",
    "imputer = SimpleImputer(missing_values=np.nan, strategy='mean')\n",
    "imputer.fit(X[:, 7:8])\n",
    "X[:, 7:8] = imputer.transform(X[:, 7:8])"
   ]
  },
  {
   "cell_type": "code",
   "execution_count": null,
   "metadata": {},
   "outputs": [],
   "source": []
  },
  {
   "cell_type": "code",
   "execution_count": null,
   "metadata": {},
   "outputs": [],
   "source": []
  },
  {
   "cell_type": "code",
   "execution_count": null,
   "metadata": {},
   "outputs": [],
   "source": []
  },
  {
   "cell_type": "code",
   "execution_count": null,
   "metadata": {},
   "outputs": [],
   "source": []
  },
  {
   "cell_type": "code",
   "execution_count": 36,
   "metadata": {},
   "outputs": [
    {
     "data": {
      "text/html": [
       "<div>\n",
       "<style>\n",
       "    .dataframe thead tr:only-child th {\n",
       "        text-align: right;\n",
       "    }\n",
       "\n",
       "    .dataframe thead th {\n",
       "        text-align: left;\n",
       "    }\n",
       "\n",
       "    .dataframe tbody tr th {\n",
       "        vertical-align: top;\n",
       "    }\n",
       "</style>\n",
       "<table border=\"1\" class=\"dataframe\">\n",
       "  <thead>\n",
       "    <tr style=\"text-align: right;\">\n",
       "      <th></th>\n",
       "      <th>Order No</th>\n",
       "      <th>Platform Type</th>\n",
       "      <th>Personal or Business</th>\n",
       "      <th>Placement - Weekday (Mo = 1)</th>\n",
       "      <th>Pickup - Time</th>\n",
       "      <th>Arrival at Destination - Time</th>\n",
       "      <th>Distance (KM)</th>\n",
       "      <th>Temperature</th>\n",
       "      <th>Precipitation in millimeters</th>\n",
       "      <th>Rider Id</th>\n",
       "      <th>Time from Pickup to Arrival</th>\n",
       "    </tr>\n",
       "  </thead>\n",
       "  <tbody>\n",
       "    <tr>\n",
       "      <th>0</th>\n",
       "      <td>Order_No_4211</td>\n",
       "      <td>3</td>\n",
       "      <td>0</td>\n",
       "      <td>5</td>\n",
       "      <td>10:27:30 AM</td>\n",
       "      <td>10:39:55 AM</td>\n",
       "      <td>4</td>\n",
       "      <td>20.4</td>\n",
       "      <td>NaN</td>\n",
       "      <td>Rider_Id_432</td>\n",
       "      <td>745</td>\n",
       "    </tr>\n",
       "    <tr>\n",
       "      <th>1</th>\n",
       "      <td>Order_No_25375</td>\n",
       "      <td>3</td>\n",
       "      <td>1</td>\n",
       "      <td>5</td>\n",
       "      <td>11:44:09 AM</td>\n",
       "      <td>12:17:22 PM</td>\n",
       "      <td>16</td>\n",
       "      <td>26.4</td>\n",
       "      <td>NaN</td>\n",
       "      <td>Rider_Id_856</td>\n",
       "      <td>1993</td>\n",
       "    </tr>\n",
       "    <tr>\n",
       "      <th>2</th>\n",
       "      <td>Order_No_1899</td>\n",
       "      <td>3</td>\n",
       "      <td>0</td>\n",
       "      <td>2</td>\n",
       "      <td>12:53:03 PM</td>\n",
       "      <td>1:00:38 PM</td>\n",
       "      <td>3</td>\n",
       "      <td>NaN</td>\n",
       "      <td>NaN</td>\n",
       "      <td>Rider_Id_155</td>\n",
       "      <td>455</td>\n",
       "    </tr>\n",
       "    <tr>\n",
       "      <th>3</th>\n",
       "      <td>Order_No_9336</td>\n",
       "      <td>3</td>\n",
       "      <td>0</td>\n",
       "      <td>5</td>\n",
       "      <td>9:43:06 AM</td>\n",
       "      <td>10:05:27 AM</td>\n",
       "      <td>9</td>\n",
       "      <td>19.2</td>\n",
       "      <td>NaN</td>\n",
       "      <td>Rider_Id_855</td>\n",
       "      <td>1341</td>\n",
       "    </tr>\n",
       "    <tr>\n",
       "      <th>4</th>\n",
       "      <td>Order_No_27883</td>\n",
       "      <td>1</td>\n",
       "      <td>1</td>\n",
       "      <td>1</td>\n",
       "      <td>10:05:23 AM</td>\n",
       "      <td>10:25:37 AM</td>\n",
       "      <td>9</td>\n",
       "      <td>15.4</td>\n",
       "      <td>NaN</td>\n",
       "      <td>Rider_Id_770</td>\n",
       "      <td>1214</td>\n",
       "    </tr>\n",
       "  </tbody>\n",
       "</table>\n",
       "</div>"
      ],
      "text/plain": [
       "         Order No  Platform Type  Personal or Business  \\\n",
       "0   Order_No_4211              3                     0   \n",
       "1  Order_No_25375              3                     1   \n",
       "2   Order_No_1899              3                     0   \n",
       "3   Order_No_9336              3                     0   \n",
       "4  Order_No_27883              1                     1   \n",
       "\n",
       "   Placement - Weekday (Mo = 1) Pickup - Time Arrival at Destination - Time  \\\n",
       "0                             5   10:27:30 AM                   10:39:55 AM   \n",
       "1                             5   11:44:09 AM                   12:17:22 PM   \n",
       "2                             2   12:53:03 PM                    1:00:38 PM   \n",
       "3                             5    9:43:06 AM                   10:05:27 AM   \n",
       "4                             1   10:05:23 AM                   10:25:37 AM   \n",
       "\n",
       "   Distance (KM)  Temperature  Precipitation in millimeters      Rider Id  \\\n",
       "0              4         20.4                           NaN  Rider_Id_432   \n",
       "1             16         26.4                           NaN  Rider_Id_856   \n",
       "2              3          NaN                           NaN  Rider_Id_155   \n",
       "3              9         19.2                           NaN  Rider_Id_855   \n",
       "4              9         15.4                           NaN  Rider_Id_770   \n",
       "\n",
       "   Time from Pickup to Arrival  \n",
       "0                          745  \n",
       "1                         1993  \n",
       "2                          455  \n",
       "3                         1341  \n",
       "4                         1214  "
      ]
     },
     "execution_count": 36,
     "metadata": {},
     "output_type": "execute_result"
    }
   ],
   "source": []
  },
  {
   "cell_type": "code",
   "execution_count": 1,
   "metadata": {},
   "outputs": [
    {
     "output_type": "error",
     "ename": "NameError",
     "evalue": "name 'new_train_data' is not defined",
     "traceback": [
      "\u001b[1;31m---------------------------------------------------------------------------\u001b[0m",
      "\u001b[1;31mNameError\u001b[0m                                 Traceback (most recent call last)",
      "\u001b[1;32m<ipython-input-1-2f38d5f32f82>\u001b[0m in \u001b[0;36m<module>\u001b[1;34m\u001b[0m\n\u001b[1;32m----> 1\u001b[1;33m \u001b[0mX\u001b[0m \u001b[1;33m=\u001b[0m \u001b[0mnew_train_data\u001b[0m\u001b[1;33m.\u001b[0m\u001b[0miloc\u001b[0m\u001b[1;33m[\u001b[0m\u001b[1;33m:\u001b[0m\u001b[1;33m,\u001b[0m \u001b[1;33m:\u001b[0m\u001b[1;33m-\u001b[0m\u001b[1;36m1\u001b[0m\u001b[1;33m]\u001b[0m\u001b[1;33m.\u001b[0m\u001b[0mvalues\u001b[0m\u001b[1;33m\u001b[0m\u001b[1;33m\u001b[0m\u001b[0m\n\u001b[0m\u001b[0;32m      2\u001b[0m \u001b[0my\u001b[0m \u001b[1;33m=\u001b[0m \u001b[0mnew_train_data\u001b[0m\u001b[1;33m.\u001b[0m\u001b[0miloc\u001b[0m\u001b[1;33m[\u001b[0m\u001b[1;33m:\u001b[0m\u001b[1;33m,\u001b[0m \u001b[1;33m-\u001b[0m\u001b[1;36m1\u001b[0m\u001b[1;33m]\u001b[0m\u001b[1;33m.\u001b[0m\u001b[0mvalues\u001b[0m\u001b[1;33m\u001b[0m\u001b[1;33m\u001b[0m\u001b[0m\n",
      "\u001b[1;31mNameError\u001b[0m: name 'new_train_data' is not defined"
     ]
    }
   ],
   "source": []
  },
  {
   "cell_type": "code",
   "execution_count": null,
   "metadata": {},
   "outputs": [],
   "source": []
  },
  {
   "cell_type": "code",
   "execution_count": null,
   "metadata": {
    "collapsed": true
   },
   "outputs": [],
   "source": []
  },
  {
   "cell_type": "code",
   "execution_count": null,
   "metadata": {},
   "outputs": [],
   "source": []
  }
 ],
 "metadata": {
  "kernelspec": {
   "display_name": "Python 3",
   "language": "python",
   "name": "python3"
  },
  "language_info": {
   "codemirror_mode": {
    "name": "ipython",
    "version": 3
   },
   "file_extension": ".py",
   "mimetype": "text/x-python",
   "name": "python",
   "nbconvert_exporter": "python",
   "pygments_lexer": "ipython3",
   "version": "3.6.3-final"
  }
 },
 "nbformat": 4,
 "nbformat_minor": 2
}